{
 "cells": [
  {
   "cell_type": "markdown",
   "id": "9c8ec278",
   "metadata": {},
   "source": [
    "**Import and Load API**"
   ]
  },
  {
   "cell_type": "code",
   "execution_count": 8,
   "id": "af34e8ba",
   "metadata": {},
   "outputs": [
    {
     "name": "stdout",
     "output_type": "stream",
     "text": [
      "Collecting yelpapi\n",
      "  Downloading yelpapi-2.5.0-py3-none-any.whl (7.4 kB)\n",
      "Requirement already satisfied: requests in /opt/homebrew/Caskroom/miniforge/base/envs/dojo-env/lib/python3.9/site-packages (from yelpapi) (2.28.1)\n",
      "Requirement already satisfied: idna<4,>=2.5 in /opt/homebrew/Caskroom/miniforge/base/envs/dojo-env/lib/python3.9/site-packages (from requests->yelpapi) (3.4)\n",
      "Requirement already satisfied: charset-normalizer<3,>=2 in /opt/homebrew/Caskroom/miniforge/base/envs/dojo-env/lib/python3.9/site-packages (from requests->yelpapi) (2.0.4)\n",
      "Requirement already satisfied: certifi>=2017.4.17 in /opt/homebrew/Caskroom/miniforge/base/envs/dojo-env/lib/python3.9/site-packages (from requests->yelpapi) (2022.9.24)\n",
      "Requirement already satisfied: urllib3<1.27,>=1.21.1 in /opt/homebrew/Caskroom/miniforge/base/envs/dojo-env/lib/python3.9/site-packages (from requests->yelpapi) (1.26.13)\n",
      "Installing collected packages: yelpapi\n",
      "Successfully installed yelpapi-2.5.0\n"
     ]
    }
   ],
   "source": [
    "#Install yelpapi\n",
    "!pip install yelpapi"
   ]
  },
  {
   "cell_type": "code",
   "execution_count": 9,
   "id": "59bc41ba",
   "metadata": {},
   "outputs": [],
   "source": [
    "#Imports\n",
    "import numpy as np\n",
    "import pandas as pd\n",
    "import matplotlib.pyplot as plt\n",
    "import seaborn as sns\n",
    "import os, json, math, time\n",
    "from yelpapi import YelpAPI\n",
    "from tqdm.notebook import tqdm_notebook"
   ]
  },
  {
   "cell_type": "code",
   "execution_count": 10,
   "id": "e3041b80",
   "metadata": {},
   "outputs": [
    {
     "name": "stdout",
     "output_type": "stream",
     "text": [
      "Requirement already satisfied: tqdm in /opt/homebrew/Caskroom/miniforge/base/envs/dojo-env/lib/python3.9/site-packages (4.64.1)\r\n"
     ]
    }
   ],
   "source": [
    "#Install tmdbsimple (only need to run once)\n",
    "!pip install tqdm"
   ]
  },
  {
   "cell_type": "code",
   "execution_count": 11,
   "id": "de73bef1",
   "metadata": {},
   "outputs": [
    {
     "data": {
      "text/plain": [
       "dict_keys(['client-id', 'api-key'])"
      ]
     },
     "execution_count": 11,
     "metadata": {},
     "output_type": "execute_result"
    }
   ],
   "source": [
    "#Load API Credentials\n",
    "with open('/Users/benjaminengel/Documents/.Secret/yelp_api.json') as f:\n",
    "    login = json.load(f)\n",
    "login.keys()"
   ]
  },
  {
   "cell_type": "code",
   "execution_count": 12,
   "id": "a618d5d0",
   "metadata": {},
   "outputs": [],
   "source": [
    "#Instantiate YelpAPI Variable\n",
    "yelp_api = YelpAPI(login['api-key'], timeout_s=5.0)"
   ]
  },
  {
   "cell_type": "code",
   "execution_count": 13,
   "id": "a8e5f38f",
   "metadata": {},
   "outputs": [],
   "source": [
    "#Set my API call parameters \n",
    "LOCATION = 'Philadelphia,PA'\n",
    "TERM = 'Cheesesteak'"
   ]
  },
  {
   "cell_type": "code",
   "execution_count": 14,
   "id": "2acc3c04",
   "metadata": {},
   "outputs": [
    {
     "data": {
      "text/plain": [
       "'Data/results_in_progress_Philly_cheesesteak.json'"
      ]
     },
     "execution_count": 14,
     "metadata": {},
     "output_type": "execute_result"
    }
   ],
   "source": [
    "# Specifying JSON_FILE filename (can include a folder)\n",
    "# include the search terms in the filename\n",
    "JSON_FILE = \"Data/results_in_progress_Philly_cheesesteak.json\"\n",
    "JSON_FILE"
   ]
  },
  {
   "cell_type": "code",
   "execution_count": 15,
   "id": "7a440792",
   "metadata": {},
   "outputs": [
    {
     "name": "stdout",
     "output_type": "stream",
     "text": [
      "[i] Data/results_in_progress_Philly_cheesesteak.json not found. Saving empty list to file.\n"
     ]
    }
   ],
   "source": [
    "#Check if JSON_FILE exists\n",
    "file_exists = os.path.isfile(JSON_FILE)\n",
    "##If it does not exist: \n",
    "if file_exists == False:\n",
    "    \n",
    "    ##CREATE ANY NEEDED FOLDERS\n",
    "    #Get the Folder Name only\n",
    "    folder = os.path.dirname(JSON_FILE)\n",
    "    ##If JSON_FILE included a folder:\n",
    "    if len(folder)>0:\n",
    "        # create the folder\n",
    "        os.makedirs(folder,exist_ok=True)\n",
    "        \n",
    "        \n",
    "    ##INFORM USER AND SAVE EMPTY LIST\n",
    "    print(f'[i] {JSON_FILE} not found. Saving empty list to file.')\n",
    "    \n",
    "    \n",
    "    #Save an empty list\n",
    "    with open(JSON_FILE,'w') as f:\n",
    "        json.dump([],f)  \n",
    "#If it exists, inform user\n",
    "else:\n",
    "    print(f\"[i] {JSON_FILE} already exists.\")"
   ]
  },
  {
   "cell_type": "code",
   "execution_count": 16,
   "id": "fa2b9f5b",
   "metadata": {},
   "outputs": [
    {
     "name": "stdout",
     "output_type": "stream",
     "text": [
      "- 0 previous results found.\n"
     ]
    }
   ],
   "source": [
    "#Load previous results and use len of results for offset\n",
    "with open(JSON_FILE,'r') as f:\n",
    "    previous_results = json.load(f)\n",
    "    \n",
    "#Set offset based on previous results\n",
    "n_results = len(previous_results)\n",
    "print(f'- {n_results} previous results found.')"
   ]
  },
  {
   "cell_type": "code",
   "execution_count": 17,
   "id": "8757bb85",
   "metadata": {},
   "outputs": [
    {
     "data": {
      "text/plain": [
       "dict_keys(['businesses', 'total', 'region'])"
      ]
     },
     "execution_count": 17,
     "metadata": {},
     "output_type": "execute_result"
    }
   ],
   "source": [
    "#Use our yelp_api variable's search_query method to perform our API call\n",
    "results = yelp_api.search_query(location=LOCATION,\n",
    "                                term=TERM,\n",
    "                               offset=n_results)\n",
    "results.keys()"
   ]
  },
  {
   "cell_type": "code",
   "execution_count": 18,
   "id": "387a9ef7",
   "metadata": {},
   "outputs": [
    {
     "data": {
      "text/plain": [
       "3700"
      ]
     },
     "execution_count": 18,
     "metadata": {},
     "output_type": "execute_result"
    }
   ],
   "source": [
    "#How many results total?\n",
    "total_results = results['total']\n",
    "total_results"
   ]
  },
  {
   "cell_type": "code",
   "execution_count": 19,
   "id": "620b613e",
   "metadata": {},
   "outputs": [
    {
     "data": {
      "text/plain": [
       "20"
      ]
     },
     "execution_count": 19,
     "metadata": {},
     "output_type": "execute_result"
    }
   ],
   "source": [
    "#How many did we get the details for?\n",
    "results_per_page = len(results['businesses'])\n",
    "results_per_page\n",
    "#20 per page"
   ]
  },
  {
   "cell_type": "code",
   "execution_count": 20,
   "id": "29964a5a",
   "metadata": {},
   "outputs": [
    {
     "data": {
      "text/plain": [
       "185"
      ]
     },
     "execution_count": 20,
     "metadata": {},
     "output_type": "execute_result"
    }
   ],
   "source": [
    "#Import additional packages for controlling our loop\n",
    "import time, math\n",
    "#Use math.ceil to round up for the total number of pages of results.\n",
    "n_pages = math.ceil((results['total']-n_results)/ results_per_page)\n",
    "n_pages"
   ]
  },
  {
   "cell_type": "code",
   "execution_count": 21,
   "id": "99515996",
   "metadata": {},
   "outputs": [],
   "source": [
    "#Join new results with old list with extend and save it to a file\n",
    "previous_results.extend(results['businesses'])  \n",
    "with open(JSON_FILE,'w') as f:\n",
    "     json.dump(previous_results,f)"
   ]
  },
  {
   "cell_type": "markdown",
   "id": "a7f7be47",
   "metadata": {},
   "source": [
    "**For Loop**"
   ]
  },
  {
   "cell_type": "code",
   "execution_count": 22,
   "id": "0fa1780f",
   "metadata": {},
   "outputs": [
    {
     "data": {
      "application/vnd.jupyter.widget-view+json": {
       "model_id": "df1a5de87b554ff1a951d2dda564a621",
       "version_major": 2,
       "version_minor": 0
      },
      "text/plain": [
       "  0%|          | 0/185 [00:00<?, ?it/s]"
      ]
     },
     "metadata": {},
     "output_type": "display_data"
    }
   ],
   "source": [
    "#TQDM for loop \n",
    "# We will also use time.sleep when executing API calls so that we do not overwhelm the server\n",
    "for i in tqdm_notebook(range(n_pages)):\n",
    "    # adds 200 ms pause\n",
    "    time.sleep(.2) "
   ]
  },
  {
   "cell_type": "code",
   "execution_count": 23,
   "id": "491f825f",
   "metadata": {},
   "outputs": [
    {
     "data": {
      "application/vnd.jupyter.widget-view+json": {
       "model_id": "17c0a7ffd0d24bb49aea523d74c117f3",
       "version_major": 2,
       "version_minor": 0
      },
      "text/plain": [
       "  0%|          | 0/185 [00:00<?, ?it/s]"
      ]
     },
     "metadata": {},
     "output_type": "display_data"
    },
    {
     "ename": "YelpAPIError",
     "evalue": "VALIDATION_ERROR: Too many results requested, limit+offset must be <= 1000.",
     "output_type": "error",
     "traceback": [
      "\u001b[0;31m---------------------------------------------------------------------------\u001b[0m",
      "\u001b[0;31mYelpAPIError\u001b[0m                              Traceback (most recent call last)",
      "Cell \u001b[0;32mIn [23], line 9\u001b[0m\n\u001b[1;32m      7\u001b[0m n_results \u001b[38;5;241m=\u001b[39m \u001b[38;5;28mlen\u001b[39m(previous_results)\n\u001b[1;32m      8\u001b[0m \u001b[38;5;66;03m#Use n_results as the OFFSET \u001b[39;00m\n\u001b[0;32m----> 9\u001b[0m results \u001b[38;5;241m=\u001b[39m \u001b[43myelp_api\u001b[49m\u001b[38;5;241;43m.\u001b[39;49m\u001b[43msearch_query\u001b[49m\u001b[43m(\u001b[49m\u001b[43mlocation\u001b[49m\u001b[38;5;241;43m=\u001b[39;49m\u001b[43mLOCATION\u001b[49m\u001b[43m,\u001b[49m\n\u001b[1;32m     10\u001b[0m \u001b[43m                                \u001b[49m\u001b[43mterm\u001b[49m\u001b[38;5;241;43m=\u001b[39;49m\u001b[43mTERM\u001b[49m\u001b[43m,\u001b[49m\u001b[43m \u001b[49m\n\u001b[1;32m     11\u001b[0m \u001b[43m                                \u001b[49m\u001b[43moffset\u001b[49m\u001b[38;5;241;43m=\u001b[39;49m\u001b[43mn_results\u001b[49m\u001b[43m)\u001b[49m\n\u001b[1;32m     13\u001b[0m \u001b[38;5;66;03m#Append new results and save to file\u001b[39;00m\n\u001b[1;32m     14\u001b[0m previous_results\u001b[38;5;241m.\u001b[39mextend(results[\u001b[38;5;124m'\u001b[39m\u001b[38;5;124mbusinesses\u001b[39m\u001b[38;5;124m'\u001b[39m])\n",
      "File \u001b[0;32m/opt/homebrew/Caskroom/miniforge/base/envs/dojo-env/lib/python3.9/site-packages/yelpapi/yelpapi.py:251\u001b[0m, in \u001b[0;36mYelpAPI.search_query\u001b[0;34m(self, **kwargs)\u001b[0m\n\u001b[1;32m    247\u001b[0m \u001b[38;5;28;01mif\u001b[39;00m \u001b[38;5;129;01mnot\u001b[39;00m kwargs\u001b[38;5;241m.\u001b[39mget(\u001b[38;5;124m'\u001b[39m\u001b[38;5;124mlocation\u001b[39m\u001b[38;5;124m'\u001b[39m) \u001b[38;5;129;01mand\u001b[39;00m (\u001b[38;5;129;01mnot\u001b[39;00m kwargs\u001b[38;5;241m.\u001b[39mget(\u001b[38;5;124m'\u001b[39m\u001b[38;5;124mlatitude\u001b[39m\u001b[38;5;124m'\u001b[39m) \u001b[38;5;129;01mor\u001b[39;00m \u001b[38;5;129;01mnot\u001b[39;00m kwargs\u001b[38;5;241m.\u001b[39mget(\u001b[38;5;124m'\u001b[39m\u001b[38;5;124mlongitude\u001b[39m\u001b[38;5;124m'\u001b[39m)):\n\u001b[1;32m    248\u001b[0m     \u001b[38;5;28;01mraise\u001b[39;00m \u001b[38;5;167;01mValueError\u001b[39;00m(\u001b[38;5;124m'\u001b[39m\u001b[38;5;124mA valid location (parameter \u001b[39m\u001b[38;5;124m\"\u001b[39m\u001b[38;5;124mlocation\u001b[39m\u001b[38;5;124m\"\u001b[39m\u001b[38;5;124m) or latitude/longitude combination \u001b[39m\u001b[38;5;124m'\u001b[39m\n\u001b[1;32m    249\u001b[0m                      \u001b[38;5;124m'\u001b[39m\u001b[38;5;124m(parameters \u001b[39m\u001b[38;5;124m\"\u001b[39m\u001b[38;5;124mlatitude\u001b[39m\u001b[38;5;124m\"\u001b[39m\u001b[38;5;124m and \u001b[39m\u001b[38;5;124m\"\u001b[39m\u001b[38;5;124mlongitude\u001b[39m\u001b[38;5;124m\"\u001b[39m\u001b[38;5;124m) must be provided.\u001b[39m\u001b[38;5;124m'\u001b[39m)\n\u001b[0;32m--> 251\u001b[0m \u001b[38;5;28;01mreturn\u001b[39;00m \u001b[38;5;28;43mself\u001b[39;49m\u001b[38;5;241;43m.\u001b[39;49m\u001b[43m_query\u001b[49m\u001b[43m(\u001b[49m\u001b[43mSEARCH_API_URL\u001b[49m\u001b[43m,\u001b[49m\u001b[43m \u001b[49m\u001b[38;5;241;43m*\u001b[39;49m\u001b[38;5;241;43m*\u001b[39;49m\u001b[43mkwargs\u001b[49m\u001b[43m)\u001b[49m\n",
      "File \u001b[0;32m/opt/homebrew/Caskroom/miniforge/base/envs/dojo-env/lib/python3.9/site-packages/yelpapi/yelpapi.py:299\u001b[0m, in \u001b[0;36mYelpAPI._query\u001b[0;34m(self, url, **kwargs)\u001b[0m\n\u001b[1;32m    295\u001b[0m \u001b[38;5;66;03m# Yelp can return one of many different API errors, so check for one of them.\u001b[39;00m\n\u001b[1;32m    296\u001b[0m \u001b[38;5;66;03m# The Yelp Fusion API does not yet have a complete list of errors, but this is on the TODO list; see\u001b[39;00m\n\u001b[1;32m    297\u001b[0m \u001b[38;5;66;03m# https://github.com/Yelp/yelp-fusion/issues/95 for more info.\u001b[39;00m\n\u001b[1;32m    298\u001b[0m \u001b[38;5;28;01mif\u001b[39;00m \u001b[38;5;124m'\u001b[39m\u001b[38;5;124merror\u001b[39m\u001b[38;5;124m'\u001b[39m \u001b[38;5;129;01min\u001b[39;00m response_json:\n\u001b[0;32m--> 299\u001b[0m     \u001b[38;5;28;01mraise\u001b[39;00m YelpAPI\u001b[38;5;241m.\u001b[39mYelpAPIError(\u001b[38;5;124m'\u001b[39m\u001b[38;5;132;01m{}\u001b[39;00m\u001b[38;5;124m: \u001b[39m\u001b[38;5;132;01m{}\u001b[39;00m\u001b[38;5;124m'\u001b[39m\u001b[38;5;241m.\u001b[39mformat(response_json[\u001b[38;5;124m'\u001b[39m\u001b[38;5;124merror\u001b[39m\u001b[38;5;124m'\u001b[39m][\u001b[38;5;124m'\u001b[39m\u001b[38;5;124mcode\u001b[39m\u001b[38;5;124m'\u001b[39m],\n\u001b[1;32m    300\u001b[0m                                                response_json[\u001b[38;5;124m'\u001b[39m\u001b[38;5;124merror\u001b[39m\u001b[38;5;124m'\u001b[39m][\u001b[38;5;124m'\u001b[39m\u001b[38;5;124mdescription\u001b[39m\u001b[38;5;124m'\u001b[39m]))\n\u001b[1;32m    302\u001b[0m \u001b[38;5;66;03m# we got a good response, so return\u001b[39;00m\n\u001b[1;32m    303\u001b[0m \u001b[38;5;28;01mreturn\u001b[39;00m response_json\n",
      "\u001b[0;31mYelpAPIError\u001b[0m: VALIDATION_ERROR: Too many results requested, limit+offset must be <= 1000."
     ]
    }
   ],
   "source": [
    "for i in tqdm_notebook( range(1,n_pages+1)):\n",
    "    \n",
    "    #Read in results in progress file\n",
    "    with open(JSON_FILE, 'r') as f:\n",
    "        previous_results = json.load(f)\n",
    "    #Save number of results\n",
    "    n_results = len(previous_results)\n",
    "    #Use n_results as the OFFSET \n",
    "    results = yelp_api.search_query(location=LOCATION,\n",
    "                                    term=TERM, \n",
    "                                    offset=n_results)\n",
    "    \n",
    "    #Append new results and save to file\n",
    "    previous_results.extend(results['businesses'])\n",
    "    \n",
    "    with open(JSON_FILE,'w') as f:\n",
    "        json.dump(previous_results,f)\n",
    "    \n",
    "    #Add a 200ms pause\n",
    "    time.sleep(.2)\n",
    "    \n",
    "    #Too many results results for the free version "
   ]
  },
  {
   "cell_type": "markdown",
   "id": "02df40da",
   "metadata": {},
   "source": [
    "**Too many results for the basic/free version.**"
   ]
  },
  {
   "cell_type": "code",
   "execution_count": 24,
   "id": "8c6ab546",
   "metadata": {},
   "outputs": [
    {
     "data": {
      "text/plain": [
       "False"
      ]
     },
     "execution_count": 24,
     "metadata": {},
     "output_type": "execute_result"
    }
   ],
   "source": [
    "#Delete file and confirm it no longer exits.\n",
    "os.remove(JSON_FILE)\n",
    "os.path.isfile(JSON_FILE)"
   ]
  },
  {
   "cell_type": "code",
   "execution_count": 25,
   "id": "3cd9a59d",
   "metadata": {},
   "outputs": [],
   "source": [
    "def create_json_file(JSON_FILE,  delete_if_exists=False):\n",
    "    \n",
    "    #Check if JSON_FILE exists\n",
    "    file_exists = os.path.isfile(JSON_FILE)\n",
    "    \n",
    "    ##If it DOES exist:\n",
    "    if file_exists == True:\n",
    "        \n",
    "        #Check if user wants to delete if exists\n",
    "        if delete_if_exists==True:\n",
    "            \n",
    "            print(f\"[!] {JSON_FILE} already exists. Deleting previous file...\")\n",
    "            ## delete file and confirm it no longer exits.\n",
    "            os.remove(JSON_FILE)\n",
    "            ## Recursive call to function after old file deleted\n",
    "            create_json_file(JSON_FILE,delete_if_exists=False)\n",
    "        else:\n",
    "            print(f\"[i] {JSON_FILE} already exists.\")            \n",
    "            \n",
    "            \n",
    "    #If it does NOT exist:\n",
    "    else:\n",
    "        \n",
    "        #INFORM USER AND SAVE EMPTY LIST\n",
    "        print(f\"[i] {JSON_FILE} not found. Saving empty list to new file.\")\n",
    "        \n",
    "        ##CREATE ANY NEEDED FOLDERS\n",
    "        #Get the Folder Name only\n",
    "        folder = os.path.dirname(JSON_FILE)\n",
    "        \n",
    "        #If JSON_FILE included a folder:\n",
    "        if len(folder)>0:\n",
    "            # create the folder\n",
    "            os.makedirs(folder,exist_ok=True)\n",
    "        ##Save empty list to start the json file\n",
    "        with open(JSON_FILE,'w') as f:\n",
    "            json.dump([],f)  "
   ]
  },
  {
   "cell_type": "code",
   "execution_count": 26,
   "id": "0ae860ee",
   "metadata": {},
   "outputs": [
    {
     "name": "stdout",
     "output_type": "stream",
     "text": [
      "[i] Data/results_in_progress_Philly_cheesesteak.json not found. Saving empty list to new file.\n",
      "- 0 previous results found.\n"
     ]
    },
    {
     "data": {
      "text/plain": [
       "185"
      ]
     },
     "execution_count": 26,
     "metadata": {},
     "output_type": "execute_result"
    }
   ],
   "source": [
    "#Create a new empty json file (exist the previous if it exists)\n",
    "create_json_file(JSON_FILE, delete_if_exists=True)\n",
    "##Load previous results and use len of results for offset\n",
    "with open(JSON_FILE,'r') as f:\n",
    "    previous_results = json.load(f)\n",
    "    \n",
    "##Set offset based on previous results\n",
    "n_results = len(previous_results)\n",
    "print(f'- {n_results} previous results found.')\n",
    "#Use our yelp_api variable's search_query method to perform our API call\n",
    "results = yelp_api.search_query(location=LOCATION,\n",
    "                                term=TERM,\n",
    "                               offset=n_results)\n",
    "##How many results total?\n",
    "total_results = results['total']\n",
    "##How many did we get the details for?\n",
    "results_per_page = len(results['businesses'])\n",
    "#Use math.ceil to round up for the total number of pages of results.\n",
    "n_pages = math.ceil((results['total']-n_results)/ results_per_page)\n",
    "n_pages"
   ]
  },
  {
   "cell_type": "code",
   "execution_count": 27,
   "id": "80a94429",
   "metadata": {},
   "outputs": [
    {
     "data": {
      "application/vnd.jupyter.widget-view+json": {
       "model_id": "14e29a7469424ec886d98ec748f50fba",
       "version_major": 2,
       "version_minor": 0
      },
      "text/plain": [
       "  0%|          | 0/185 [00:00<?, ?it/s]"
      ]
     },
     "metadata": {},
     "output_type": "display_data"
    },
    {
     "name": "stdout",
     "output_type": "stream",
     "text": [
      "Exceeded 1000 api calls. Stopping loop.\n"
     ]
    }
   ],
   "source": [
    "for i in tqdm_notebook( range(1,n_pages+1)):\n",
    "    \n",
    "    ##Read in results in progress file and check the length\n",
    "    with open(JSON_FILE, 'r') as f:\n",
    "        previous_results = json.load(f)\n",
    "    ##Save number of results for to use as offset\n",
    "    n_results = len(previous_results)\n",
    "    \n",
    "    if (n_results + results_per_page) > 1000:\n",
    "        print('Exceeded 1000 api calls. Stopping loop.')\n",
    "        break\n",
    "    \n",
    "    ##Use n_results as the OFFSET \n",
    "    results = yelp_api.search_query(location=LOCATION,\n",
    "                                    term=TERM, \n",
    "                                    offset=n_results)\n",
    "    \n",
    "    \n",
    "    \n",
    "    ##Append new results and save to file\n",
    "    previous_results.extend(results['businesses'])\n",
    "    \n",
    "    #Display(previous_results)\n",
    "    with open(JSON_FILE,'w') as f:\n",
    "        json.dump(previous_results,f)\n",
    "    \n",
    "    time.sleep(.2)"
   ]
  },
  {
   "cell_type": "code",
   "execution_count": 28,
   "id": "baa44c30",
   "metadata": {},
   "outputs": [
    {
     "data": {
      "text/html": [
       "<div>\n",
       "<style scoped>\n",
       "    .dataframe tbody tr th:only-of-type {\n",
       "        vertical-align: middle;\n",
       "    }\n",
       "\n",
       "    .dataframe tbody tr th {\n",
       "        vertical-align: top;\n",
       "    }\n",
       "\n",
       "    .dataframe thead th {\n",
       "        text-align: right;\n",
       "    }\n",
       "</style>\n",
       "<table border=\"1\" class=\"dataframe\">\n",
       "  <thead>\n",
       "    <tr style=\"text-align: right;\">\n",
       "      <th></th>\n",
       "      <th>id</th>\n",
       "      <th>alias</th>\n",
       "      <th>name</th>\n",
       "      <th>image_url</th>\n",
       "      <th>is_closed</th>\n",
       "      <th>url</th>\n",
       "      <th>review_count</th>\n",
       "      <th>categories</th>\n",
       "      <th>rating</th>\n",
       "      <th>coordinates</th>\n",
       "      <th>transactions</th>\n",
       "      <th>price</th>\n",
       "      <th>location</th>\n",
       "      <th>phone</th>\n",
       "      <th>display_phone</th>\n",
       "      <th>distance</th>\n",
       "    </tr>\n",
       "  </thead>\n",
       "  <tbody>\n",
       "    <tr>\n",
       "      <th>0</th>\n",
       "      <td>RQAF6a0akMiot5lZZnMNNw</td>\n",
       "      <td>dalessandro-s-steaks-and-hoagies-philadelphia</td>\n",
       "      <td>Dalessandro’s Steaks &amp; Hoagies</td>\n",
       "      <td>https://s3-media3.fl.yelpcdn.com/bphoto/jRs94o...</td>\n",
       "      <td>False</td>\n",
       "      <td>https://www.yelp.com/biz/dalessandro-s-steaks-...</td>\n",
       "      <td>3183</td>\n",
       "      <td>[{'alias': 'sandwiches', 'title': 'Sandwiches'...</td>\n",
       "      <td>4.0</td>\n",
       "      <td>{'latitude': 40.029494, 'longitude': -75.2059714}</td>\n",
       "      <td>[delivery]</td>\n",
       "      <td>$$</td>\n",
       "      <td>{'address1': '600 Wendover St', 'address2': ''...</td>\n",
       "      <td>+12154825407</td>\n",
       "      <td>(215) 482-5407</td>\n",
       "      <td>8111.519762</td>\n",
       "    </tr>\n",
       "    <tr>\n",
       "      <th>1</th>\n",
       "      <td>LM54ufrINJWoTN5imV8Etw</td>\n",
       "      <td>johns-roast-pork-philadelphia</td>\n",
       "      <td>John's Roast Pork</td>\n",
       "      <td>https://s3-media3.fl.yelpcdn.com/bphoto/qPyjRa...</td>\n",
       "      <td>False</td>\n",
       "      <td>https://www.yelp.com/biz/johns-roast-pork-phil...</td>\n",
       "      <td>1757</td>\n",
       "      <td>[{'alias': 'sandwiches', 'title': 'Sandwiches'...</td>\n",
       "      <td>4.5</td>\n",
       "      <td>{'latitude': 39.9210273851256, 'longitude': -7...</td>\n",
       "      <td>[delivery, pickup]</td>\n",
       "      <td>$$</td>\n",
       "      <td>{'address1': '14 E Snyder Ave', 'address2': ''...</td>\n",
       "      <td>+12154631951</td>\n",
       "      <td>(215) 463-1951</td>\n",
       "      <td>9321.694746</td>\n",
       "    </tr>\n",
       "    <tr>\n",
       "      <th>2</th>\n",
       "      <td>-mIlmp5l4hKlp1tvHRdvTg</td>\n",
       "      <td>sonnys-famous-steaks-philadelphia</td>\n",
       "      <td>Sonny's Famous Steaks</td>\n",
       "      <td>https://s3-media2.fl.yelpcdn.com/bphoto/xtspCM...</td>\n",
       "      <td>False</td>\n",
       "      <td>https://www.yelp.com/biz/sonnys-famous-steaks-...</td>\n",
       "      <td>1893</td>\n",
       "      <td>[{'alias': 'cheesesteaks', 'title': 'Cheeseste...</td>\n",
       "      <td>4.0</td>\n",
       "      <td>{'latitude': 39.94982923010674, 'longitude': -...</td>\n",
       "      <td>[delivery, pickup]</td>\n",
       "      <td>$$</td>\n",
       "      <td>{'address1': '228 Market St', 'address2': '', ...</td>\n",
       "      <td>+12156295760</td>\n",
       "      <td>(215) 629-5760</td>\n",
       "      <td>6264.888631</td>\n",
       "    </tr>\n",
       "    <tr>\n",
       "      <th>3</th>\n",
       "      <td>jxEMFqwDJXjCxmcm5t5jVQ</td>\n",
       "      <td>cleavers-philadelphia</td>\n",
       "      <td>Cleavers</td>\n",
       "      <td>https://s3-media1.fl.yelpcdn.com/bphoto/9dfyW_...</td>\n",
       "      <td>False</td>\n",
       "      <td>https://www.yelp.com/biz/cleavers-philadelphia...</td>\n",
       "      <td>1547</td>\n",
       "      <td>[{'alias': 'cheesesteaks', 'title': 'Cheeseste...</td>\n",
       "      <td>4.0</td>\n",
       "      <td>{'latitude': 39.9513931274414, 'longitude': -7...</td>\n",
       "      <td>[delivery, pickup]</td>\n",
       "      <td>$$</td>\n",
       "      <td>{'address1': '108 S 18th St', 'address2': '', ...</td>\n",
       "      <td>+12155153828</td>\n",
       "      <td>(215) 515-3828</td>\n",
       "      <td>7227.916750</td>\n",
       "    </tr>\n",
       "    <tr>\n",
       "      <th>4</th>\n",
       "      <td>q-zV08jt6U-q05SMEuQJAQ</td>\n",
       "      <td>tony-and-nicks-steaks-philadelphia</td>\n",
       "      <td>Tony &amp; Nick's Steaks</td>\n",
       "      <td>https://s3-media1.fl.yelpcdn.com/bphoto/NW552n...</td>\n",
       "      <td>False</td>\n",
       "      <td>https://www.yelp.com/biz/tony-and-nicks-steaks...</td>\n",
       "      <td>2017</td>\n",
       "      <td>[{'alias': 'sandwiches', 'title': 'Sandwiches'...</td>\n",
       "      <td>4.0</td>\n",
       "      <td>{'latitude': 39.9141065085686, 'longitude': -7...</td>\n",
       "      <td>[delivery, pickup]</td>\n",
       "      <td>$$</td>\n",
       "      <td>{'address1': '39 E Oregon Ave', 'address2': ''...</td>\n",
       "      <td>+12155515725</td>\n",
       "      <td>(215) 551-5725</td>\n",
       "      <td>10146.334733</td>\n",
       "    </tr>\n",
       "  </tbody>\n",
       "</table>\n",
       "</div>"
      ],
      "text/plain": [
       "                       id                                          alias  \\\n",
       "0  RQAF6a0akMiot5lZZnMNNw  dalessandro-s-steaks-and-hoagies-philadelphia   \n",
       "1  LM54ufrINJWoTN5imV8Etw                  johns-roast-pork-philadelphia   \n",
       "2  -mIlmp5l4hKlp1tvHRdvTg              sonnys-famous-steaks-philadelphia   \n",
       "3  jxEMFqwDJXjCxmcm5t5jVQ                          cleavers-philadelphia   \n",
       "4  q-zV08jt6U-q05SMEuQJAQ             tony-and-nicks-steaks-philadelphia   \n",
       "\n",
       "                             name  \\\n",
       "0  Dalessandro’s Steaks & Hoagies   \n",
       "1               John's Roast Pork   \n",
       "2           Sonny's Famous Steaks   \n",
       "3                        Cleavers   \n",
       "4            Tony & Nick's Steaks   \n",
       "\n",
       "                                           image_url  is_closed  \\\n",
       "0  https://s3-media3.fl.yelpcdn.com/bphoto/jRs94o...      False   \n",
       "1  https://s3-media3.fl.yelpcdn.com/bphoto/qPyjRa...      False   \n",
       "2  https://s3-media2.fl.yelpcdn.com/bphoto/xtspCM...      False   \n",
       "3  https://s3-media1.fl.yelpcdn.com/bphoto/9dfyW_...      False   \n",
       "4  https://s3-media1.fl.yelpcdn.com/bphoto/NW552n...      False   \n",
       "\n",
       "                                                 url  review_count  \\\n",
       "0  https://www.yelp.com/biz/dalessandro-s-steaks-...          3183   \n",
       "1  https://www.yelp.com/biz/johns-roast-pork-phil...          1757   \n",
       "2  https://www.yelp.com/biz/sonnys-famous-steaks-...          1893   \n",
       "3  https://www.yelp.com/biz/cleavers-philadelphia...          1547   \n",
       "4  https://www.yelp.com/biz/tony-and-nicks-steaks...          2017   \n",
       "\n",
       "                                          categories  rating  \\\n",
       "0  [{'alias': 'sandwiches', 'title': 'Sandwiches'...     4.0   \n",
       "1  [{'alias': 'sandwiches', 'title': 'Sandwiches'...     4.5   \n",
       "2  [{'alias': 'cheesesteaks', 'title': 'Cheeseste...     4.0   \n",
       "3  [{'alias': 'cheesesteaks', 'title': 'Cheeseste...     4.0   \n",
       "4  [{'alias': 'sandwiches', 'title': 'Sandwiches'...     4.0   \n",
       "\n",
       "                                         coordinates        transactions  \\\n",
       "0  {'latitude': 40.029494, 'longitude': -75.2059714}          [delivery]   \n",
       "1  {'latitude': 39.9210273851256, 'longitude': -7...  [delivery, pickup]   \n",
       "2  {'latitude': 39.94982923010674, 'longitude': -...  [delivery, pickup]   \n",
       "3  {'latitude': 39.9513931274414, 'longitude': -7...  [delivery, pickup]   \n",
       "4  {'latitude': 39.9141065085686, 'longitude': -7...  [delivery, pickup]   \n",
       "\n",
       "  price                                           location         phone  \\\n",
       "0    $$  {'address1': '600 Wendover St', 'address2': ''...  +12154825407   \n",
       "1    $$  {'address1': '14 E Snyder Ave', 'address2': ''...  +12154631951   \n",
       "2    $$  {'address1': '228 Market St', 'address2': '', ...  +12156295760   \n",
       "3    $$  {'address1': '108 S 18th St', 'address2': '', ...  +12155153828   \n",
       "4    $$  {'address1': '39 E Oregon Ave', 'address2': ''...  +12155515725   \n",
       "\n",
       "    display_phone      distance  \n",
       "0  (215) 482-5407   8111.519762  \n",
       "1  (215) 463-1951   9321.694746  \n",
       "2  (215) 629-5760   6264.888631  \n",
       "3  (215) 515-3828   7227.916750  \n",
       "4  (215) 551-5725  10146.334733  "
      ]
     },
     "metadata": {},
     "output_type": "display_data"
    },
    {
     "data": {
      "text/html": [
       "<div>\n",
       "<style scoped>\n",
       "    .dataframe tbody tr th:only-of-type {\n",
       "        vertical-align: middle;\n",
       "    }\n",
       "\n",
       "    .dataframe tbody tr th {\n",
       "        vertical-align: top;\n",
       "    }\n",
       "\n",
       "    .dataframe thead th {\n",
       "        text-align: right;\n",
       "    }\n",
       "</style>\n",
       "<table border=\"1\" class=\"dataframe\">\n",
       "  <thead>\n",
       "    <tr style=\"text-align: right;\">\n",
       "      <th></th>\n",
       "      <th>id</th>\n",
       "      <th>alias</th>\n",
       "      <th>name</th>\n",
       "      <th>image_url</th>\n",
       "      <th>is_closed</th>\n",
       "      <th>url</th>\n",
       "      <th>review_count</th>\n",
       "      <th>categories</th>\n",
       "      <th>rating</th>\n",
       "      <th>coordinates</th>\n",
       "      <th>transactions</th>\n",
       "      <th>price</th>\n",
       "      <th>location</th>\n",
       "      <th>phone</th>\n",
       "      <th>display_phone</th>\n",
       "      <th>distance</th>\n",
       "    </tr>\n",
       "  </thead>\n",
       "  <tbody>\n",
       "    <tr>\n",
       "      <th>995</th>\n",
       "      <td>4OGCFfm2vCnuPFRhezoYlg</td>\n",
       "      <td>chanks-grab-n-go-philadelphia-3</td>\n",
       "      <td>Chank's Grab-N-Go</td>\n",
       "      <td>https://s3-media1.fl.yelpcdn.com/bphoto/a1eoc9...</td>\n",
       "      <td>False</td>\n",
       "      <td>https://www.yelp.com/biz/chanks-grab-n-go-phil...</td>\n",
       "      <td>2</td>\n",
       "      <td>[{'alias': 'foodtrucks', 'title': 'Food Trucks...</td>\n",
       "      <td>3.5</td>\n",
       "      <td>{'latitude': 39.966144, 'longitude': -75.191074}</td>\n",
       "      <td>[delivery, pickup]</td>\n",
       "      <td>NaN</td>\n",
       "      <td>{'address1': '3300 Fairmount Ave', 'address2':...</td>\n",
       "      <td></td>\n",
       "      <td></td>\n",
       "      <td>7426.259335</td>\n",
       "    </tr>\n",
       "    <tr>\n",
       "      <th>996</th>\n",
       "      <td>vXjCBd1_SG9FtJxJroU7TA</td>\n",
       "      <td>rosario-s-pizzeria-northeast-cheltenham</td>\n",
       "      <td>Rosario’s Pizzeria Northeast</td>\n",
       "      <td>https://s3-media2.fl.yelpcdn.com/bphoto/kVLosH...</td>\n",
       "      <td>False</td>\n",
       "      <td>https://www.yelp.com/biz/rosario-s-pizzeria-no...</td>\n",
       "      <td>1</td>\n",
       "      <td>[{'alias': 'pizza', 'title': 'Pizza'}, {'alias...</td>\n",
       "      <td>5.0</td>\n",
       "      <td>{'latitude': 40.06900736126877, 'longitude': -...</td>\n",
       "      <td>[delivery]</td>\n",
       "      <td>NaN</td>\n",
       "      <td>{'address1': '576 Township Line Rd', 'address2...</td>\n",
       "      <td>+14452463178</td>\n",
       "      <td>(445) 246-3178</td>\n",
       "      <td>7648.209899</td>\n",
       "    </tr>\n",
       "    <tr>\n",
       "      <th>997</th>\n",
       "      <td>fGXhWKQV5YwjIjgP-DBNBw</td>\n",
       "      <td>liberty-bell-gastropub-bensalem</td>\n",
       "      <td>Liberty Bell Gastropub</td>\n",
       "      <td>https://s3-media2.fl.yelpcdn.com/bphoto/rKWMe_...</td>\n",
       "      <td>False</td>\n",
       "      <td>https://www.yelp.com/biz/liberty-bell-gastropu...</td>\n",
       "      <td>125</td>\n",
       "      <td>[{'alias': 'burgers', 'title': 'Burgers'}, {'a...</td>\n",
       "      <td>4.0</td>\n",
       "      <td>{'latitude': 40.119244299997334, 'longitude': ...</td>\n",
       "      <td>[]</td>\n",
       "      <td>$$</td>\n",
       "      <td>{'address1': '2999 Street Rd', 'address2': '',...</td>\n",
       "      <td>+12675257566</td>\n",
       "      <td>(267) 525-7566</td>\n",
       "      <td>19137.710396</td>\n",
       "    </tr>\n",
       "    <tr>\n",
       "      <th>998</th>\n",
       "      <td>xkoMuRwlujZyQkijTtsmOg</td>\n",
       "      <td>sandwich-club-croydon</td>\n",
       "      <td>Sandwich Club</td>\n",
       "      <td>https://s3-media1.fl.yelpcdn.com/bphoto/CGsCGz...</td>\n",
       "      <td>False</td>\n",
       "      <td>https://www.yelp.com/biz/sandwich-club-croydon...</td>\n",
       "      <td>25</td>\n",
       "      <td>[{'alias': 'sandwiches', 'title': 'Sandwiches'...</td>\n",
       "      <td>4.0</td>\n",
       "      <td>{'latitude': 40.0942134, 'longitude': -74.9066...</td>\n",
       "      <td>[delivery, pickup]</td>\n",
       "      <td>$</td>\n",
       "      <td>{'address1': '105 Newportville Rd', 'address2'...</td>\n",
       "      <td>+12157882807</td>\n",
       "      <td>(215) 788-2807</td>\n",
       "      <td>20670.264486</td>\n",
       "    </tr>\n",
       "    <tr>\n",
       "      <th>999</th>\n",
       "      <td>LiH_a3ZxwxKACzrYbzXXQQ</td>\n",
       "      <td>maple-glen-pizza-maple-glen</td>\n",
       "      <td>Maple Glen Pizza</td>\n",
       "      <td>https://s3-media4.fl.yelpcdn.com/bphoto/COxKgv...</td>\n",
       "      <td>False</td>\n",
       "      <td>https://www.yelp.com/biz/maple-glen-pizza-mapl...</td>\n",
       "      <td>130</td>\n",
       "      <td>[{'alias': 'pizza', 'title': 'Pizza'}]</td>\n",
       "      <td>3.5</td>\n",
       "      <td>{'latitude': 40.1795729, 'longitude': -75.1818...</td>\n",
       "      <td>[delivery]</td>\n",
       "      <td>$$</td>\n",
       "      <td>{'address1': '641 E Welsh Rd', 'address2': '',...</td>\n",
       "      <td>+12155427720</td>\n",
       "      <td>(215) 542-7720</td>\n",
       "      <td>20465.496925</td>\n",
       "    </tr>\n",
       "  </tbody>\n",
       "</table>\n",
       "</div>"
      ],
      "text/plain": [
       "                         id                                    alias  \\\n",
       "995  4OGCFfm2vCnuPFRhezoYlg          chanks-grab-n-go-philadelphia-3   \n",
       "996  vXjCBd1_SG9FtJxJroU7TA  rosario-s-pizzeria-northeast-cheltenham   \n",
       "997  fGXhWKQV5YwjIjgP-DBNBw          liberty-bell-gastropub-bensalem   \n",
       "998  xkoMuRwlujZyQkijTtsmOg                    sandwich-club-croydon   \n",
       "999  LiH_a3ZxwxKACzrYbzXXQQ              maple-glen-pizza-maple-glen   \n",
       "\n",
       "                             name  \\\n",
       "995             Chank's Grab-N-Go   \n",
       "996  Rosario’s Pizzeria Northeast   \n",
       "997        Liberty Bell Gastropub   \n",
       "998                 Sandwich Club   \n",
       "999              Maple Glen Pizza   \n",
       "\n",
       "                                             image_url  is_closed  \\\n",
       "995  https://s3-media1.fl.yelpcdn.com/bphoto/a1eoc9...      False   \n",
       "996  https://s3-media2.fl.yelpcdn.com/bphoto/kVLosH...      False   \n",
       "997  https://s3-media2.fl.yelpcdn.com/bphoto/rKWMe_...      False   \n",
       "998  https://s3-media1.fl.yelpcdn.com/bphoto/CGsCGz...      False   \n",
       "999  https://s3-media4.fl.yelpcdn.com/bphoto/COxKgv...      False   \n",
       "\n",
       "                                                   url  review_count  \\\n",
       "995  https://www.yelp.com/biz/chanks-grab-n-go-phil...             2   \n",
       "996  https://www.yelp.com/biz/rosario-s-pizzeria-no...             1   \n",
       "997  https://www.yelp.com/biz/liberty-bell-gastropu...           125   \n",
       "998  https://www.yelp.com/biz/sandwich-club-croydon...            25   \n",
       "999  https://www.yelp.com/biz/maple-glen-pizza-mapl...           130   \n",
       "\n",
       "                                            categories  rating  \\\n",
       "995  [{'alias': 'foodtrucks', 'title': 'Food Trucks...     3.5   \n",
       "996  [{'alias': 'pizza', 'title': 'Pizza'}, {'alias...     5.0   \n",
       "997  [{'alias': 'burgers', 'title': 'Burgers'}, {'a...     4.0   \n",
       "998  [{'alias': 'sandwiches', 'title': 'Sandwiches'...     4.0   \n",
       "999             [{'alias': 'pizza', 'title': 'Pizza'}]     3.5   \n",
       "\n",
       "                                           coordinates        transactions  \\\n",
       "995   {'latitude': 39.966144, 'longitude': -75.191074}  [delivery, pickup]   \n",
       "996  {'latitude': 40.06900736126877, 'longitude': -...          [delivery]   \n",
       "997  {'latitude': 40.119244299997334, 'longitude': ...                  []   \n",
       "998  {'latitude': 40.0942134, 'longitude': -74.9066...  [delivery, pickup]   \n",
       "999  {'latitude': 40.1795729, 'longitude': -75.1818...          [delivery]   \n",
       "\n",
       "    price                                           location         phone  \\\n",
       "995   NaN  {'address1': '3300 Fairmount Ave', 'address2':...                 \n",
       "996   NaN  {'address1': '576 Township Line Rd', 'address2...  +14452463178   \n",
       "997    $$  {'address1': '2999 Street Rd', 'address2': '',...  +12675257566   \n",
       "998     $  {'address1': '105 Newportville Rd', 'address2'...  +12157882807   \n",
       "999    $$  {'address1': '641 E Welsh Rd', 'address2': '',...  +12155427720   \n",
       "\n",
       "      display_phone      distance  \n",
       "995                   7426.259335  \n",
       "996  (445) 246-3178   7648.209899  \n",
       "997  (267) 525-7566  19137.710396  \n",
       "998  (215) 788-2807  20670.264486  \n",
       "999  (215) 542-7720  20465.496925  "
      ]
     },
     "metadata": {},
     "output_type": "display_data"
    }
   ],
   "source": [
    "#Load final results\n",
    "final_df = pd.read_json(JSON_FILE)\n",
    "display(final_df.head(), final_df.tail())"
   ]
  },
  {
   "cell_type": "code",
   "execution_count": 29,
   "id": "a4e50ffc",
   "metadata": {},
   "outputs": [
    {
     "data": {
      "text/plain": [
       "2"
      ]
     },
     "execution_count": 29,
     "metadata": {},
     "output_type": "execute_result"
    }
   ],
   "source": [
    "#Check for duplicate ID's \n",
    "final_df.duplicated(subset='id').sum()"
   ]
  },
  {
   "cell_type": "code",
   "execution_count": 30,
   "id": "64d1dd0c",
   "metadata": {},
   "outputs": [
    {
     "data": {
      "text/plain": [
       "0"
      ]
     },
     "execution_count": 30,
     "metadata": {},
     "output_type": "execute_result"
    }
   ],
   "source": [
    "##Drop duplicate ids and confirm there are no more duplicates\n",
    "final_df = final_df.drop_duplicates(subset='id')\n",
    "final_df.duplicated(subset='id').sum()"
   ]
  },
  {
   "cell_type": "code",
   "execution_count": 31,
   "id": "97b8284f",
   "metadata": {},
   "outputs": [],
   "source": [
    "#Save the final results to a compressed csv\n",
    "final_df.to_csv('Data/final_results_Philly_cheesesteak.csv.gz', compression='gzip',index=False)"
   ]
  }
 ],
 "metadata": {
  "kernelspec": {
   "display_name": "Python (dojo-env)",
   "language": "python",
   "name": "dojo-env"
  },
  "language_info": {
   "codemirror_mode": {
    "name": "ipython",
    "version": 3
   },
   "file_extension": ".py",
   "mimetype": "text/x-python",
   "name": "python",
   "nbconvert_exporter": "python",
   "pygments_lexer": "ipython3",
   "version": "3.9.15"
  },
  "toc": {
   "base_numbering": 1,
   "nav_menu": {},
   "number_sections": false,
   "sideBar": true,
   "skip_h1_title": false,
   "title_cell": "Table of Contents",
   "title_sidebar": "Contents",
   "toc_cell": false,
   "toc_position": {},
   "toc_section_display": true,
   "toc_window_display": false
  }
 },
 "nbformat": 4,
 "nbformat_minor": 5
}
